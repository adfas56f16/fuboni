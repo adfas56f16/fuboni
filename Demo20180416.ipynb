{
 "cells": [
  {
   "cell_type": "markdown",
   "metadata": {},
   "source": [
    "## Iterative Programming"
   ]
  },
  {
   "cell_type": "code",
   "execution_count": 4,
   "metadata": {
    "collapsed": false
   },
   "outputs": [
    {
     "data": {
      "text/plain": [
       "12"
      ]
     },
     "execution_count": 4,
     "metadata": {},
     "output_type": "execute_result"
    }
   ],
   "source": [
    "import numpy as np\n",
    "a = np.array([1,2,3,4,5,6,7])\n",
    "\n",
    "b = []\n",
    "for ele in a:\n",
    "    if ele % 2 == 0: \n",
    "        b.append(ele)\n",
    "        \n",
    "c= sum(b)\n",
    "c"
   ]
  },
  {
   "cell_type": "markdown",
   "metadata": {},
   "source": [
    "## Functional Programming"
   ]
  },
  {
   "cell_type": "code",
   "execution_count": 7,
   "metadata": {
    "collapsed": false
   },
   "outputs": [
    {
     "data": {
      "text/plain": [
       "12"
      ]
     },
     "execution_count": 7,
     "metadata": {},
     "output_type": "execute_result"
    }
   ],
   "source": [
    "a = np.array([1,2,3,4,5,6,7])\n",
    "\n",
    "def even(ary):\n",
    "    return ary % 2 == 0\n",
    "\n",
    "a[even(a)].sum()\n"
   ]
  },
  {
   "cell_type": "markdown",
   "metadata": {},
   "source": [
    "## Read Data"
   ]
  },
  {
   "cell_type": "code",
   "execution_count": null,
   "metadata": {
    "collapsed": true
   },
   "outputs": [],
   "source": [
    "%pyspark\n",
    "\n",
    "data = [1,2,3,4,5]\n",
    "rDD = sc.parallelize(data, 4)\n",
    "rDD.collect()"
   ]
  },
  {
   "cell_type": "code",
   "execution_count": null,
   "metadata": {
    "collapsed": true
   },
   "outputs": [],
   "source": [
    "%pyspark\n",
    "lines = sc.textFile('file:/a.log')\n",
    "lines.take(5)"
   ]
  },
  {
   "cell_type": "markdown",
   "metadata": {},
   "source": [
    "## Lambda"
   ]
  },
  {
   "cell_type": "code",
   "execution_count": 8,
   "metadata": {
    "collapsed": false
   },
   "outputs": [
    {
     "data": {
      "text/plain": [
       "5"
      ]
     },
     "execution_count": 8,
     "metadata": {},
     "output_type": "execute_result"
    }
   ],
   "source": [
    "def addNum(a,b):\n",
    "    return a+ b\n",
    "\n",
    "addNum(2,3)"
   ]
  },
  {
   "cell_type": "code",
   "execution_count": 9,
   "metadata": {
    "collapsed": false
   },
   "outputs": [
    {
     "data": {
      "text/plain": [
       "9"
      ]
     },
     "execution_count": 9,
     "metadata": {},
     "output_type": "execute_result"
    }
   ],
   "source": [
    "addnum = lambda a, b : a + b\n",
    "addnum(5,4)"
   ]
  },
  {
   "cell_type": "code",
   "execution_count": 10,
   "metadata": {
    "collapsed": false
   },
   "outputs": [
    {
     "data": {
      "text/plain": [
       "9"
      ]
     },
     "execution_count": 10,
     "metadata": {},
     "output_type": "execute_result"
    }
   ],
   "source": [
    "def square(e):\n",
    "    return e ** 2\n",
    "\n",
    "square2 = lambda e: e**2\n",
    "square2(3)"
   ]
  },
  {
   "cell_type": "markdown",
   "metadata": {},
   "source": [
    "## Transformation"
   ]
  },
  {
   "cell_type": "code",
   "execution_count": null,
   "metadata": {
    "collapsed": true
   },
   "outputs": [],
   "source": [
    "%pyspark\n",
    "\n",
    "rdd = sc.parallelize([1,2,3,4])\n",
    "rdd.collect()\n",
    "\n",
    "a = rdd.map(lambda e: e * 2)\n",
    "a.collect()\n",
    "\n",
    "def even(e):\n",
    "    return e % 2 == 0\n",
    "\n",
    "b = rdd.filter(lambda e: e % 2 == 0)\n",
    "b.collect()\n",
    "\n",
    "d = rdd.filter(even)\n",
    "d.collect()\n",
    "\n",
    "rdd2 = sc.parallelize([1,4,2,2,3])\n",
    "c = rdd2.distinct()\n",
    "c.collect()"
   ]
  },
  {
   "cell_type": "code",
   "execution_count": null,
   "metadata": {
    "collapsed": true
   },
   "outputs": [],
   "source": [
    "%pyspark\n",
    "rdd = sc.parallelize([1,2,3])\n",
    "rdd2 = rdd.map(lambda x : [x, x+ 5])\n",
    "rdd2.collect()\n",
    "\n",
    "rdd3 = rdd.flatMap(lambda x : [x, x+ 5])\n",
    "rdd3.collect()"
   ]
  },
  {
   "cell_type": "markdown",
   "metadata": {},
   "source": [
    "## Action"
   ]
  },
  {
   "cell_type": "code",
   "execution_count": null,
   "metadata": {
    "collapsed": true
   },
   "outputs": [],
   "source": [
    "%pyspark\n",
    "rdd=sc.parallelize([1,2,3])\n",
    "rdd.reduce(lambda a,b:a*b)\n",
    "\n",
    "rdd.take(2)\n",
    "\n",
    "\n",
    "rdd.collect()\n",
    "\n",
    "rdd=sc.parallelize([5, 3, 1,2])\n",
    "rdd.takeOrdered(3)\n",
    "rdd.takeOrdered(3, lambda e: -1 * e)\n"
   ]
  },
  {
   "cell_type": "markdown",
   "metadata": {},
   "source": [
    "## Key Value Pair"
   ]
  },
  {
   "cell_type": "code",
   "execution_count": null,
   "metadata": {
    "collapsed": true
   },
   "outputs": [],
   "source": [
    "%pyspark\n",
    "rdd = sc.parallelize([(1,2), (3,4), (3,6)]) \n",
    "rdd2 = rdd.reduceByKey(lambda a, b: a + b)  \n",
    "rdd2.collect()\n",
    "\n",
    "rdd3 = sc.parallelize([(1,'a'), (2,'c'), (1,'b')]) \n",
    "rdd4 = rdd3.sortByKey()\n",
    "rdd4.collect()\n",
    "\n",
    "rdd5 = sc.parallelize([(1,'a'), (2,'c'), (1,'b')]) \n",
    "rdd6 = rdd5.groupByKey()\n",
    "rdd6.collect()\n"
   ]
  },
  {
   "cell_type": "markdown",
   "metadata": {},
   "source": [
    "## Broadcast"
   ]
  },
  {
   "cell_type": "code",
   "execution_count": null,
   "metadata": {
    "collapsed": true
   },
   "outputs": [],
   "source": [
    "%pyspark\n",
    "broadcastVar = sc.broadcast([1, 2, 3]) \n",
    "broadcastVar.value\n"
   ]
  },
  {
   "cell_type": "markdown",
   "metadata": {},
   "source": [
    "## Accumulator"
   ]
  },
  {
   "cell_type": "code",
   "execution_count": null,
   "metadata": {
    "collapsed": true
   },
   "outputs": [],
   "source": [
    "%pyspark\n",
    "# accumulator\n",
    "accum = sc.accumulator(0) \n",
    "rdd = sc.parallelize([1, 2, 3, 4]) \n",
    "\n",
    "def f(x): \n",
    "    global accum\n",
    "    accum += x   \n",
    "rdd.foreach(f) \n",
    "accum.value\n"
   ]
  },
  {
   "cell_type": "markdown",
   "metadata": {},
   "source": [
    "## Analyze User Ratings"
   ]
  },
  {
   "cell_type": "code",
   "execution_count": null,
   "metadata": {
    "collapsed": true
   },
   "outputs": [],
   "source": [
    "%pyspark\n",
    "lines = sc.textFile(\"file:/tmp/u.data\")\n",
    "lines.take(3)\n",
    "ratings = lines.map(lambda e:int(e.split()[2]) )\n",
    "ratings.take(3)\n",
    "\n",
    "result = ratings.countByValue()\n",
    "print(result.items())\n",
    "\n",
    "import collections\n",
    "sortedResults = collections.OrderedDict(sorted(result.items()))\n",
    "print(sortedResults)"
   ]
  },
  {
   "cell_type": "markdown",
   "metadata": {},
   "source": [
    "## Find Minimum Temp in Each Station"
   ]
  },
  {
   "cell_type": "code",
   "execution_count": null,
   "metadata": {
    "collapsed": true
   },
   "outputs": [],
   "source": [
    "%pyspark\n",
    "lines = sc.textFile(\"file:/tmp/1800.csv\")\n",
    "lines.take(3)\n",
    "\n",
    "def parseLine(line):\n",
    "    fields = line.split(',')\n",
    "    stationID = fields[0]\n",
    "    entryType = fields[2]\n",
    "    temperature = float(fields[3]) * 0.1 * (9.0 / 5.0) + 32.0\n",
    "    return (stationID, entryType, temperature)\n",
    "    \n",
    "parsedLines = lines.map(parseLine)\n",
    "parsedLines.take(3)\n",
    "\n",
    "\n",
    "minTemps     = parsedLines.filter(lambda x: \"TMIN\" in x[1])\n",
    "stationTemps = minTemps.map(lambda x: (x[0], x[2]))\n",
    "minTemps     = stationTemps.reduceByKey(lambda x, y: min(x,y))\n",
    "results      = minTemps.collect()\n",
    "\n",
    "print(results)\n"
   ]
  }
 ],
 "metadata": {
  "kernelspec": {
   "display_name": "Python 3",
   "language": "python",
   "name": "python3"
  },
  "language_info": {
   "codemirror_mode": {
    "name": "ipython",
    "version": 3
   },
   "file_extension": ".py",
   "mimetype": "text/x-python",
   "name": "python",
   "nbconvert_exporter": "python",
   "pygments_lexer": "ipython3",
   "version": "3.6.0"
  }
 },
 "nbformat": 4,
 "nbformat_minor": 2
}
