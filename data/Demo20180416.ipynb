{
 "cells": [
  {
   "cell_type": "markdown",
   "metadata": {},
   "source": [
    "## Iterative Programming"
   ]
  },
  {
   "cell_type": "code",
   "execution_count": 4,
   "metadata": {
    "collapsed": false
   },
   "outputs": [
    {
     "data": {
      "text/plain": [
       "12"
      ]
     },
     "execution_count": 4,
     "metadata": {},
     "output_type": "execute_result"
    }
   ],
   "source": [
    "import numpy as np\n",
    "a = np.array([1,2,3,4,5,6,7])\n",
    "\n",
    "b = []\n",
    "for ele in a:\n",
    "    if ele % 2 == 0: \n",
    "        b.append(ele)\n",
    "        \n",
    "c= sum(b)\n",
    "c"
   ]
  },
  {
   "cell_type": "markdown",
   "metadata": {},
   "source": [
    "## Functional Programming"
   ]
  },
  {
   "cell_type": "code",
   "execution_count": 7,
   "metadata": {
    "collapsed": false
   },
   "outputs": [
    {
     "data": {
      "text/plain": [
       "12"
      ]
     },
     "execution_count": 7,
     "metadata": {},
     "output_type": "execute_result"
    }
   ],
   "source": [
    "a = np.array([1,2,3,4,5,6,7])\n",
    "\n",
    "def even(ary):\n",
    "    return ary % 2 == 0\n",
    "\n",
    "a[even(a)].sum()\n"
   ]
  },
  {
   "cell_type": "markdown",
   "metadata": {},
   "source": [
    "## Read Data"
   ]
  },
  {
   "cell_type": "code",
   "execution_count": null,
   "metadata": {
    "collapsed": true
   },
   "outputs": [],
   "source": [
    "%pyspark\n",
    "\n",
    "data = [1,2,3,4,5]\n",
    "rDD = sc.parallelize(data, 4)\n",
    "rDD.collect()"
   ]
  },
  {
   "cell_type": "code",
   "execution_count": null,
   "metadata": {
    "collapsed": true
   },
   "outputs": [],
   "source": [
    "%pyspark\n",
    "lines = sc.textFile('file:/a.log')\n",
    "lines.take(5)"
   ]
  },
  {
   "cell_type": "markdown",
   "metadata": {},
   "source": [
    "## Lambda"
   ]
  },
  {
   "cell_type": "code",
   "execution_count": 8,
   "metadata": {
    "collapsed": false
   },
   "outputs": [
    {
     "data": {
      "text/plain": [
       "5"
      ]
     },
     "execution_count": 8,
     "metadata": {},
     "output_type": "execute_result"
    }
   ],
   "source": [
    "def addNum(a,b):\n",
    "    return a+ b\n",
    "\n",
    "addNum(2,3)"
   ]
  },
  {
   "cell_type": "code",
   "execution_count": 9,
   "metadata": {
    "collapsed": false
   },
   "outputs": [
    {
     "data": {
      "text/plain": [
       "9"
      ]
     },
     "execution_count": 9,
     "metadata": {},
     "output_type": "execute_result"
    }
   ],
   "source": [
    "addnum = lambda a, b : a + b\n",
    "addnum(5,4)"
   ]
  },
  {
   "cell_type": "code",
   "execution_count": 10,
   "metadata": {
    "collapsed": false
   },
   "outputs": [
    {
     "data": {
      "text/plain": [
       "9"
      ]
     },
     "execution_count": 10,
     "metadata": {},
     "output_type": "execute_result"
    }
   ],
   "source": [
    "def square(e):\n",
    "    return e ** 2\n",
    "\n",
    "square2 = lambda e: e**2\n",
    "square2(3)"
   ]
  },
  {
   "cell_type": "markdown",
   "metadata": {},
   "source": [
    "## Transformation"
   ]
  },
  {
   "cell_type": "code",
   "execution_count": null,
   "metadata": {
    "collapsed": true
   },
   "outputs": [],
   "source": [
    "%pyspark\n",
    "\n",
    "rdd = sc.parallelize([1,2,3,4])\n",
    "rdd.collect()\n",
    "\n",
    "a = rdd.map(lambda e: e * 2)\n",
    "a.collect()\n",
    "\n",
    "def even(e):\n",
    "    return e % 2 == 0\n",
    "\n",
    "b = rdd.filter(lambda e: e % 2 == 0)\n",
    "b.collect()\n",
    "\n",
    "d = rdd.filter(even)\n",
    "d.collect()\n",
    "\n",
    "rdd2 = sc.parallelize([1,4,2,2,3])\n",
    "c = rdd2.distinct()\n",
    "c.collect()"
   ]
  },
  {
   "cell_type": "code",
   "execution_count": null,
   "metadata": {
    "collapsed": true
   },
   "outputs": [],
   "source": [
    "%pyspark\n",
    "rdd = sc.parallelize([1,2,3])\n",
    "rdd2 = rdd.map(lambda x : [x, x+ 5])\n",
    "rdd2.collect()\n",
    "\n",
    "rdd3 = rdd.flatMap(lambda x : [x, x+ 5])\n",
    "rdd3.collect()"
   ]
  },
  {
   "cell_type": "markdown",
   "metadata": {},
   "source": [
    "## Action"
   ]
  },
  {
   "cell_type": "code",
   "execution_count": null,
   "metadata": {
    "collapsed": true
   },
   "outputs": [],
   "source": [
    "%pyspark\n",
    "rdd=sc.parallelize([1,2,3])\n",
    "rdd.reduce(lambda a,b:a*b)\n",
    "\n",
    "rdd.take(2)\n",
    "\n",
    "\n",
    "rdd.collect()\n",
    "\n",
    "rdd=sc.parallelize([5, 3, 1,2])\n",
    "rdd.takeOrdered(3)\n",
    "rdd.takeOrdered(3, lambda e: -1 * e)\n"
   ]
  },
  {
   "cell_type": "markdown",
   "metadata": {},
   "source": [
    "## Key Value Pair"
   ]
  },
  {
   "cell_type": "code",
   "execution_count": null,
   "metadata": {
    "collapsed": true
   },
   "outputs": [],
   "source": [
    "%pyspark\n",
    "rdd = sc.parallelize([(1,2), (3,4), (3,6)]) \n",
    "rdd2 = rdd.reduceByKey(lambda a, b: a + b)  \n",
    "rdd2.collect()\n",
    "\n",
    "rdd3 = sc.parallelize([(1,'a'), (2,'c'), (1,'b')]) \n",
    "rdd4 = rdd3.sortByKey()\n",
    "rdd4.collect()\n",
    "\n",
    "rdd5 = sc.parallelize([(1,'a'), (2,'c'), (1,'b')]) \n",
    "rdd6 = rdd5.groupByKey()\n",
    "rdd6.collect()\n"
   ]
  },
  {
   "cell_type": "markdown",
   "metadata": {},
   "source": [
    "## Broadcast"
   ]
  },
  {
   "cell_type": "code",
   "execution_count": null,
   "metadata": {
    "collapsed": true
   },
   "outputs": [],
   "source": [
    "%pyspark\n",
    "broadcastVar = sc.broadcast([1, 2, 3]) \n",
    "broadcastVar.value\n"
   ]
  },
  {
   "cell_type": "markdown",
   "metadata": {},
   "source": [
    "## Accumulator"
   ]
  },
  {
   "cell_type": "code",
   "execution_count": null,
   "metadata": {
    "collapsed": true
   },
   "outputs": [],
   "source": [
    "%pyspark\n",
    "# accumulator\n",
    "accum = sc.accumulator(0) \n",
    "rdd = sc.parallelize([1, 2, 3, 4]) \n",
    "\n",
    "def f(x): \n",
    "    global accum\n",
    "    accum += x   \n",
    "rdd.foreach(f) \n",
    "accum.value\n"
   ]
  },
  {
   "cell_type": "markdown",
   "metadata": {},
   "source": [
    "## Analyze User Ratings"
   ]
  },
  {
   "cell_type": "code",
   "execution_count": null,
   "metadata": {
    "collapsed": true
   },
   "outputs": [],
   "source": [
    "%pyspark\n",
    "lines = sc.textFile(\"file:/tmp/u.data\")\n",
    "lines.take(3)\n",
    "ratings = lines.map(lambda e:int(e.split()[2]) )\n",
    "ratings.take(3)\n",
    "\n",
    "result = ratings.countByValue()\n",
    "print(result.items())\n",
    "\n",
    "import collections\n",
    "sortedResults = collections.OrderedDict(sorted(result.items()))\n",
    "print(sortedResults)"
   ]
  },
  {
   "cell_type": "markdown",
   "metadata": {},
   "source": [
    "## Find Minimum Temp in Each Station"
   ]
  },
  {
   "cell_type": "code",
   "execution_count": null,
   "metadata": {
    "collapsed": true
   },
   "outputs": [],
   "source": [
    "%pyspark\n",
    "lines = sc.textFile(\"file:/tmp/1800.csv\")\n",
    "lines.take(3)\n",
    "\n",
    "def parseLine(line):\n",
    "    fields = line.split(',')\n",
    "    stationID = fields[0]\n",
    "    entryType = fields[2]\n",
    "    temperature = float(fields[3]) * 0.1 * (9.0 / 5.0) + 32.0\n",
    "    return (stationID, entryType, temperature)\n",
    "    \n",
    "parsedLines = lines.map(parseLine)\n",
    "parsedLines.take(3)\n",
    "\n",
    "\n",
    "minTemps     = parsedLines.filter(lambda x: \"TMIN\" in x[1])\n",
    "stationTemps = minTemps.map(lambda x: (x[0], x[2]))\n",
    "minTemps     = stationTemps.reduceByKey(lambda x, y: min(x,y))\n",
    "results      = minTemps.collect()\n",
    "\n",
    "print(results)\n"
   ]
  },
  {
   "cell_type": "markdown",
   "metadata": {},
   "source": [
    "## WordCount 1"
   ]
  },
  {
   "cell_type": "code",
   "execution_count": null,
   "metadata": {
    "collapsed": true
   },
   "outputs": [],
   "source": [
    "%pyspark\n",
    "lines = sc.textFile(\"file:/tmp/trump.txt\")\n",
    "words = lines.map(lambda e: e.lower())\n",
    "words.take(3)\n",
    "\n",
    "words = lines.map(lambda e: e.lower().split())\n",
    "words.take(3)\n",
    "\n",
    "stopwords = [\"a\", \"about\", \"above\", \"above\", \"across\", \"after\", \"afterwards\", \"again\", \"against\", \"all\", \"almost\", \"alone\", \"along\", \"already\", \"also\",\"although\",\"always\",\"am\",\"among\", \"amongst\", \"amoungst\", \"amount\",  \"an\", \"and\", \"another\", \"any\",\"anyhow\",\"anyone\",\"anything\",\"anyway\", \"anywhere\", \"are\", \"around\", \"as\",  \"at\", \"back\",\"be\",\"became\", \"because\",\"become\",\"becomes\", \"becoming\", \"been\", \"before\", \"beforehand\", \"behind\", \"being\", \"below\", \"beside\", \"besides\", \"between\", \"beyond\", \"bill\", \"both\", \"bottom\",\"but\", \"by\", \"call\", \"can\", \"cannot\", \"cant\", \"co\", \"con\", \"could\", \"couldnt\", \"cry\", \"de\", \"describe\", \"detail\", \"do\", \"done\", \"down\", \"due\", \"during\", \"each\", \"eg\", \"eight\", \"either\", \"eleven\",\"else\", \"elsewhere\", \"empty\", \"enough\", \"etc\", \"even\", \"ever\", \"every\", \"everyone\", \"everything\", \"everywhere\", \"except\", \"few\", \"fifteen\", \"fify\", \"fill\", \"find\", \"fire\", \"first\", \"five\", \"for\", \"former\", \"formerly\", \"forty\", \"found\", \"four\", \"from\", \"front\", \"full\", \"further\", \"get\", \"give\", \"go\", \"had\", \"has\", \"hasnt\", \"have\", \"he\", \"hence\", \"her\", \"here\", \"hereafter\", \"hereby\", \"herein\", \"hereupon\", \"hers\", \"herself\", \"him\", \"himself\", \"his\", \"how\", \"however\", \"hundred\", \"ie\", \"if\", \"in\", \"inc\", \"indeed\", \"interest\", \"into\", \"is\", \"it\", \"its\", \"itself\", \"keep\", \"last\", \"latter\", \"latterly\", \"least\", \"less\", \"ltd\", \"made\", \"many\", \"may\", \"me\", \"meanwhile\", \"might\", \"mill\", \"mine\", \"more\", \"moreover\", \"most\", \"mostly\", \"move\", \"much\", \"must\", \"my\", \"myself\", \"name\", \"namely\", \"neither\", \"never\", \"nevertheless\", \"next\", \"nine\", \"no\", \"nobody\", \"none\", \"noone\", \"nor\", \"not\", \"nothing\", \"now\", \"nowhere\", \"of\", \"off\", \"often\", \"on\", \"once\", \"one\", \"only\", \"onto\", \"or\", \"other\", \"others\", \"otherwise\", \"our\", \"ours\", \"ourselves\", \"out\", \"over\", \"own\",\"part\", \"per\", \"perhaps\", \"please\", \"put\", \"rather\", \"re\", \"same\", \"see\", \"seem\", \"seemed\", \"seeming\", \"seems\", \"serious\", \"several\", \"she\", \"should\", \"show\", \"side\", \"since\", \"sincere\", \"six\", \"sixty\", \"so\", \"some\", \"somehow\", \"someone\", \"something\", \"sometime\", \"sometimes\", \"somewhere\", \"still\", \"such\", \"system\", \"take\", \"ten\", \"than\", \"that\", \"the\", \"their\", \"them\", \"themselves\", \"then\", \"thence\", \"there\", \"thereafter\", \"thereby\", \"therefore\", \"therein\", \"thereupon\", \"these\", \"they\", \"thickv\", \"thin\", \"third\", \"this\", \"those\", \"though\", \"three\", \"through\", \"throughout\", \"thru\", \"thus\", \"to\", \"together\", \"too\", \"top\", \"toward\", \"towards\", \"twelve\", \"twenty\", \"two\", \"un\", \"under\", \"until\", \"up\", \"upon\", \"us\", \"very\", \"via\", \"was\", \"we\", \"well\", \"were\", \"what\", \"whatever\", \"when\", \"whence\", \"whenever\", \"where\", \"whereafter\", \"whereas\", \"whereby\", \"wherein\", \"whereupon\", \"wherever\", \"whether\", \"which\", \"while\", \"whither\", \"who\", \"whoever\", \"whole\", \"whom\", \"whose\", \"why\", \"will\", \"with\", \"within\", \"without\", \"would\", \"yet\", \"you\", \"your\", \"yours\", \"yourself\", \"yourselves\", \"the\"]\n",
    "\n",
    "words = lines.flatMap(lambda e: [word for word in e.lower().split() if word not in stopwords])\n",
    "words.take(3)\n",
    "\n",
    "wordCounts = words.countByValue()\n",
    "\n",
    "import operator\n",
    "swd= sorted(wordCounts.items(), key = operator.itemgetter(1), reverse=True)\n",
    "swd"
   ]
  },
  {
   "cell_type": "markdown",
   "metadata": {},
   "source": [
    "## Word Count 2"
   ]
  },
  {
   "cell_type": "code",
   "execution_count": null,
   "metadata": {
    "collapsed": true
   },
   "outputs": [],
   "source": [
    "%pyspark\n",
    "\n",
    "lines = sc.textFile(\"file:/tmp/trump.txt\")\n",
    "\n",
    "stopwords = [\"a\", \"about\", \"above\", \"above\", \"across\", \"after\", \"afterwards\", \"again\", \"against\", \"all\", \"almost\", \"alone\", \"along\", \"already\", \"also\",\"although\",\"always\",\"am\",\"among\", \"amongst\", \"amoungst\", \"amount\",  \"an\", \"and\", \"another\", \"any\",\"anyhow\",\"anyone\",\"anything\",\"anyway\", \"anywhere\", \"are\", \"around\", \"as\",  \"at\", \"back\",\"be\",\"became\", \"because\",\"become\",\"becomes\", \"becoming\", \"been\", \"before\", \"beforehand\", \"behind\", \"being\", \"below\", \"beside\", \"besides\", \"between\", \"beyond\", \"bill\", \"both\", \"bottom\",\"but\", \"by\", \"call\", \"can\", \"cannot\", \"cant\", \"co\", \"con\", \"could\", \"couldnt\", \"cry\", \"de\", \"describe\", \"detail\", \"do\", \"done\", \"down\", \"due\", \"during\", \"each\", \"eg\", \"eight\", \"either\", \"eleven\",\"else\", \"elsewhere\", \"empty\", \"enough\", \"etc\", \"even\", \"ever\", \"every\", \"everyone\", \"everything\", \"everywhere\", \"except\", \"few\", \"fifteen\", \"fify\", \"fill\", \"find\", \"fire\", \"first\", \"five\", \"for\", \"former\", \"formerly\", \"forty\", \"found\", \"four\", \"from\", \"front\", \"full\", \"further\", \"get\", \"give\", \"go\", \"had\", \"has\", \"hasnt\", \"have\", \"he\", \"hence\", \"her\", \"here\", \"hereafter\", \"hereby\", \"herein\", \"hereupon\", \"hers\", \"herself\", \"him\", \"himself\", \"his\", \"how\", \"however\", \"hundred\", \"ie\", \"if\", \"in\", \"inc\", \"indeed\", \"interest\", \"into\", \"is\", \"it\", \"its\", \"itself\", \"keep\", \"last\", \"latter\", \"latterly\", \"least\", \"less\", \"ltd\", \"made\", \"many\", \"may\", \"me\", \"meanwhile\", \"might\", \"mill\", \"mine\", \"more\", \"moreover\", \"most\", \"mostly\", \"move\", \"much\", \"must\", \"my\", \"myself\", \"name\", \"namely\", \"neither\", \"never\", \"nevertheless\", \"next\", \"nine\", \"no\", \"nobody\", \"none\", \"noone\", \"nor\", \"not\", \"nothing\", \"now\", \"nowhere\", \"of\", \"off\", \"often\", \"on\", \"once\", \"one\", \"only\", \"onto\", \"or\", \"other\", \"others\", \"otherwise\", \"our\", \"ours\", \"ourselves\", \"out\", \"over\", \"own\",\"part\", \"per\", \"perhaps\", \"please\", \"put\", \"rather\", \"re\", \"same\", \"see\", \"seem\", \"seemed\", \"seeming\", \"seems\", \"serious\", \"several\", \"she\", \"should\", \"show\", \"side\", \"since\", \"sincere\", \"six\", \"sixty\", \"so\", \"some\", \"somehow\", \"someone\", \"something\", \"sometime\", \"sometimes\", \"somewhere\", \"still\", \"such\", \"system\", \"take\", \"ten\", \"than\", \"that\", \"the\", \"their\", \"them\", \"themselves\", \"then\", \"thence\", \"there\", \"thereafter\", \"thereby\", \"therefore\", \"therein\", \"thereupon\", \"these\", \"they\", \"thickv\", \"thin\", \"third\", \"this\", \"those\", \"though\", \"three\", \"through\", \"throughout\", \"thru\", \"thus\", \"to\", \"together\", \"too\", \"top\", \"toward\", \"towards\", \"twelve\", \"twenty\", \"two\", \"un\", \"under\", \"until\", \"up\", \"upon\", \"us\", \"very\", \"via\", \"was\", \"we\", \"well\", \"were\", \"what\", \"whatever\", \"when\", \"whence\", \"whenever\", \"where\", \"whereafter\", \"whereas\", \"whereby\", \"wherein\", \"whereupon\", \"wherever\", \"whether\", \"which\", \"while\", \"whither\", \"who\", \"whoever\", \"whole\", \"whom\", \"whose\", \"why\", \"will\", \"with\", \"within\", \"without\", \"would\", \"yet\", \"you\", \"your\", \"yours\", \"yourself\", \"yourselves\", \"the\"]\n",
    "\n",
    "stopVar = sc.broadcast(stopwords) \n",
    "\n",
    "\n",
    "words = lines.flatMap(lambda e: [word for word in e.lower().split() if word not in stopVar.value])\n",
    "words.take(3)\n",
    "\n",
    "wordCounts = words.countByValue()\n",
    "\n",
    "import operator\n",
    "swd= sorted(wordCounts.items(), key = operator.itemgetter(1), reverse=True)\n",
    "swd\n"
   ]
  },
  {
   "cell_type": "markdown",
   "metadata": {},
   "source": [
    "## Cache"
   ]
  },
  {
   "cell_type": "code",
   "execution_count": null,
   "metadata": {
    "collapsed": true
   },
   "outputs": [],
   "source": [
    "%pyspark\n",
    "data_file = 'file:/tmp/kddcup.data_10_percent.gz'\n",
    "raw_data = sc.textFile(data_file)\n",
    "raw_data.cache()\n",
    "raw_data_sample = raw_data.sample(False, 0.1)\n",
    "print(raw_data.count(), raw_data_sample.count())"
   ]
  },
  {
   "cell_type": "markdown",
   "metadata": {},
   "source": [
    "## reduceByKey"
   ]
  },
  {
   "cell_type": "code",
   "execution_count": null,
   "metadata": {
    "collapsed": true
   },
   "outputs": [],
   "source": [
    "%pyspark\n",
    "data_file = 'file:/tmp/fakefriends.csv'\n",
    "lines = sc.textFile(data_file)\n",
    "lines.take(3)\n",
    "\n",
    "def parseLine(line):\n",
    "    fields     = line.split(',')\n",
    "    age        = int(fields[2])\n",
    "    numFriends = int(fields[3])\n",
    "    return (age,  numFriends  )\n",
    "    \n",
    "rdd = lines.map(parseLine)\n",
    "rdd\n",
    "\n",
    "rdd2 = rdd.mapValues(lambda x: (x,1))\n",
    "rdd2.take(3)\n",
    "\n",
    "rdd3 = rdd2.reduceByKey(lambda x, y: (x[0] + y[0], x[1] + y[1]))\n",
    "rdd3.take(3)\n",
    "\n",
    "averagesByAge = rdd3.mapValues(lambda x: x[0] / x[1])\n",
    "results = averagesByAge.collect()\n",
    "print(results[0:10])\n"
   ]
  },
  {
   "cell_type": "markdown",
   "metadata": {},
   "source": [
    "## Analyze Customer Orders"
   ]
  },
  {
   "cell_type": "code",
   "execution_count": null,
   "metadata": {
    "collapsed": true
   },
   "outputs": [],
   "source": [
    "%pyspark\n",
    "lines = sc.textFile('file:/tmp/customer-orders.csv')\n",
    "\n",
    "def extractCustomerPricePairs(line):\n",
    "    fields = line.split(',')\n",
    "    return (int(fields[0]), float(fields[2]))   \n",
    "    \n",
    "mappedInput = lines.map(extractCustomerPricePairs)\n",
    "mappedInput.take(3)\n",
    "\n",
    "totalByCustomer = mappedInput.reduceByKey(lambda x,y: x+ y)\n",
    "sorted_data = totalByCustomer.sortBy(lambda a: -a[1])\n",
    "results = sorted_data.collect()\n",
    "for result in results[0:10]:\n",
    "    print(result)\n"
   ]
  },
  {
   "cell_type": "markdown",
   "metadata": {},
   "source": [
    "## Get Popular Movie"
   ]
  },
  {
   "cell_type": "code",
   "execution_count": null,
   "metadata": {
    "collapsed": true
   },
   "outputs": [],
   "source": [
    "%pyspark\n",
    "lines = sc.textFile(\"file:/tmp/u.data\")\n",
    "lines.take(3)\n",
    "\n",
    "movies = lines.map(lambda x : (x.split()[1], 1) )\n",
    "movies.take(3)\n",
    "\n",
    "movieCounts = movies.reduceByKey(lambda x, y:x+y)\n",
    "\n",
    "# method 1\n",
    "sortedMovies = movieCounts.sortBy(lambda e: -e[1])\n",
    "results = sortedMovies.take(10)\n",
    "print(results)\n"
   ]
  },
  {
   "cell_type": "markdown",
   "metadata": {},
   "source": [
    "## Get Popular Movie With Name"
   ]
  },
  {
   "cell_type": "code",
   "execution_count": null,
   "metadata": {
    "collapsed": true
   },
   "outputs": [],
   "source": [
    "%pyspark\n",
    "def loadMovieNames():\n",
    "    movieNames = {}\n",
    "    with open('/tmp/u.item', 'r', encoding = 'utf-8') as f:\n",
    "        for rec in f:\n",
    "            #print(rec)\n",
    "            fields = rec.split('|')\n",
    "            movieNames[fields[0]] = fields[1]\n",
    "    return movieNames\n",
    "    \n",
    "nameDict = sc.broadcast(loadMovieNames())\n",
    "\n",
    "nameDict.value['50']\n",
    "\n",
    "lines = sc.textFile(\"file:/tmp/u.data\")\n",
    "movies = lines.map(lambda x : (x.split()[1], 1) )\n",
    "movieCounts = movies.reduceByKey(lambda x, y:x+y)\n",
    "movieCountsWithNames = movieCounts.map(lambda e: (nameDict.value.get(e[0]), e[1]) )\n",
    "\n",
    "#movieCountsWithNames.take(10)\n",
    "sortedMovies = movieCountsWithNames.sortBy(lambda e: -e[1])\n",
    "results = sortedMovies.take(10)\n",
    "print(results)\n"
   ]
  }
 ],
 "metadata": {
  "kernelspec": {
   "display_name": "Python 3",
   "language": "python",
   "name": "python3"
  },
  "language_info": {
   "codemirror_mode": {
    "name": "ipython",
    "version": 3
   },
   "file_extension": ".py",
   "mimetype": "text/x-python",
   "name": "python",
   "nbconvert_exporter": "python",
   "pygments_lexer": "ipython3",
   "version": "3.6.0"
  }
 },
 "nbformat": 4,
 "nbformat_minor": 2
}
